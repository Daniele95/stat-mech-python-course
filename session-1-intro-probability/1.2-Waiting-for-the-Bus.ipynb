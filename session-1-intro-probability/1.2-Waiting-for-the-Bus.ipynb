{
 "cells": [
  {
   "cell_type": "code",
   "execution_count": 1,
   "metadata": {},
   "outputs": [],
   "source": [
    "# multidimensional arrays\n",
    "import numpy as np\n",
    "\n",
    "# inline plots\n",
    "import matplotlib.pyplot as plt\n",
    "%matplotlib inline\n",
    "\n",
    "# nicer figures\n",
    "import matplotlib as mpl\n",
    "mpl.rcParams['axes.titlesize'] = 16\n",
    "mpl.rcParams['axes.labelsize'] = 14\n",
    "mpl.rcParams['legend.fontsize'] = 12\n",
    "mpl.rcParams['xtick.labelsize'] = 12\n",
    "mpl.rcParams['ytick.labelsize'] = 12\n",
    "mpl.rcParams['axes.spines.right'] = False\n",
    "mpl.rcParams['axes.spines.top'] = False"
   ]
  },
  {
   "cell_type": "markdown",
   "metadata": {},
   "source": [
    "# Waiting for the bus\n",
    "Before starting this second notebook, have a look at problem *1.3 Waiting for the bus* from list 1. The take-home message was that **exponential** waiting times between events imply **Poisson** number of events in a given time interval. What are the events? In our exercise they were bus arrivals, but they could be anything.\n",
    "\n",
    "We will start by generating exponential random numbers. In the [previous session](1.1-Generating-Random-Numbers.ipynb) we learnt howe to generate random numbers with a given distribution via **inverse sampling**. Today, however, we will use functions from `numpy.random`."
   ]
  },
  {
   "cell_type": "markdown",
   "metadata": {},
   "source": [
    "### Exercise\n",
    "Find a `numpy.random` function that generates numbers drawn from the exponential distribution. You might simply google \"numpy random exponential\" or browse [numpy's website]()."
   ]
  },
  {
   "cell_type": "markdown",
   "metadata": {},
   "source": []
  },
  {
   "cell_type": "markdown",
   "metadata": {},
   "source": [
    "## Function's documentation"
   ]
  },
  {
   "cell_type": "markdown",
   "metadata": {},
   "source": [
    "Using the `?` command, you will get a quick view of a functions documentation. "
   ]
  },
  {
   "cell_type": "code",
   "execution_count": 2,
   "metadata": {},
   "outputs": [
    {
     "data": {
      "text/plain": [
       "\u001b[0;31mDocstring:\u001b[0m\n",
       "exponential(scale=1.0, size=None)\n",
       "\n",
       "Draw samples from an exponential distribution.\n",
       "\n",
       "Its probability density function is\n",
       "\n",
       ".. math:: f(x; \\frac{1}{\\beta}) = \\frac{1}{\\beta} \\exp(-\\frac{x}{\\beta}),\n",
       "\n",
       "for ``x > 0`` and 0 elsewhere. :math:`\\beta` is the scale parameter,\n",
       "which is the inverse of the rate parameter :math:`\\lambda = 1/\\beta`.\n",
       "The rate parameter is an alternative, widely used parameterization\n",
       "of the exponential distribution [3]_.\n",
       "\n",
       "The exponential distribution is a continuous analogue of the\n",
       "geometric distribution.  It describes many common situations, such as\n",
       "the size of raindrops measured over many rainstorms [1]_, or the time\n",
       "between page requests to Wikipedia [2]_.\n",
       "\n",
       "Parameters\n",
       "----------\n",
       "scale : float or array_like of floats\n",
       "    The scale parameter, :math:`\\beta = 1/\\lambda`.\n",
       "size : int or tuple of ints, optional\n",
       "    Output shape.  If the given shape is, e.g., ``(m, n, k)``, then\n",
       "    ``m * n * k`` samples are drawn.  If size is ``None`` (default),\n",
       "    a single value is returned if ``scale`` is a scalar.  Otherwise,\n",
       "    ``np.array(scale).size`` samples are drawn.\n",
       "\n",
       "Returns\n",
       "-------\n",
       "out : ndarray or scalar\n",
       "    Drawn samples from the parameterized exponential distribution.\n",
       "\n",
       "References\n",
       "----------\n",
       ".. [1] Peyton Z. Peebles Jr., \"Probability, Random Variables and\n",
       "       Random Signal Principles\", 4th ed, 2001, p. 57.\n",
       ".. [2] Wikipedia, \"Poisson process\",\n",
       "       http://en.wikipedia.org/wiki/Poisson_process\n",
       ".. [3] Wikipedia, \"Exponential distribution\",\n",
       "       http://en.wikipedia.org/wiki/Exponential_distribution\n",
       "\u001b[0;31mType:\u001b[0m      builtin_function_or_method\n"
      ]
     },
     "metadata": {},
     "output_type": "display_data"
    }
   ],
   "source": [
    "np.random.exponential?"
   ]
  },
  {
   "cell_type": "markdown",
   "metadata": {},
   "source": [
    "\n",
    "Well-documented python functions, such as most found in numpy, follow a standardized format. The most important parts of a function's documentation are:\n",
    "\n",
    "The *first line*: gives a briev description of what the function does. It is followed by a more lengthy and detailed paragraph, but the first line should be enough to undersand what a function does.\n",
    "\n",
    "The *Parameters* section, which tells you what are the arguments or parameters of the function. It tells you what `type` they should be: a string, a float, and integer, etc. Notice that in python, parameters can be almost anything: you can pass a function to another function, you can pass an array, or a whole class, or any kind of python object.\n",
    "\n",
    "The *Returns* section is also very important, because it tells you what the function returns. Sometimes it is obvious, sometimes not, specially with functions that compute and return more than one thing."
   ]
  },
  {
   "cell_type": "markdown",
   "metadata": {},
   "source": [
    "### Exercise\n",
    "\n",
    "Using numpy's functions, write a function called `get_waiting_times` of your own that has as input arguments an integer `size` and a float `lam`, and returns `size` samples from an exponential distribution with $\\lambda=$`lam`. The probability density function of an exponential random variable is:\n",
    "$$\n",
    "f(x) = \\lambda e^{-\\lambda x}\n",
    "$$\n",
    "Make sure you check what do the parameters of numpy's random exponential function mean!"
   ]
  },
  {
   "cell_type": "code",
   "execution_count": 3,
   "metadata": {},
   "outputs": [],
   "source": [
    "def get_waiting_times(size, lam):\n",
    "    ...\n",
    "    w_times = np.random.exponential(...)\n",
    "    return w_times"
   ]
  },
  {
   "cell_type": "markdown",
   "metadata": {},
   "source": [
    "## From exponential to Poisson\n",
    "The rest of the exercise consists in verifying computationally that exponential waiting times between events imply Poisson number of events in a given time period, as we already showed analytically during last lecture. So, in case you didn't find the proof convincing, now you get a chance to see for yourself!"
   ]
  },
  {
   "cell_type": "markdown",
   "metadata": {},
   "source": [
    "### Exercise\n",
    "Write a function that computes the event times. Your function should call the `get_waiting_times` function, and should have the same parameters. In case it is not clear, the event times $t_i$ are computed from the waiting times $w_i$ as\n",
    "$$\n",
    "t_i = \\sum_{k=1}^{i} w_k\n",
    "$$"
   ]
  },
  {
   "cell_type": "code",
   "execution_count": 4,
   "metadata": {},
   "outputs": [],
   "source": [
    "def get_event_times(size, lam):\n",
    "    waiting_times = ...\n",
    "    # we simply do a cumulative sum of the waiting times\n",
    "    # find a numpy function that does cumulatives sums\n",
    "    event_times = ...\n",
    "    return event_times"
   ]
  },
  {
   "cell_type": "markdown",
   "metadata": {},
   "source": [
    "Now we need to count the number of events in a given time interval. There is a practical problem, since we don't know how many events to generate."
   ]
  },
  {
   "cell_type": "markdown",
   "metadata": {},
   "source": [
    "### Exercise\n",
    "Device a strategy to make sure you generate enough events. That is, given a time period $T$ and the rate $\\lambda$ of the exponential, how many events $N(T, \\lambda)$ should you generate to make sure that $t_N > T$ ? \n",
    "\n",
    "\n",
    "\n",
    "\n"
   ]
  },
  {
   "cell_type": "markdown",
   "metadata": {},
   "source": []
  },
  {
   "cell_type": "markdown",
   "metadata": {},
   "source": [
    "## Assertions\n",
    "The `assert` statement is used to verify conditions that we expect to be `True`. For instance:\n",
    "```python\n",
    "assert 4 > 1 #True\n",
    "assert \"a\" in [\"a\", \"b\", \"c\"] #True\n",
    "assert 1 >= 2 #AssertionError\n",
    "```\n",
    "If the condition after `assert` is `False`, then an error is raised. But otherwise, nothing happens. Think of `assert` as \"make sure\": we don't want to do anything if the condition is `True`, we just want to make sure it is not `False`. A typical use case is to make sure that the passed arguments have some properties. For instance:\n",
    "\n",
    "```python\n",
    "def polar_to_cartesian(r, phi):\n",
    "    \"\"\"\n",
    "    Transform polar to cartesian coordinates.\n",
    "    \"\"\"\n",
    "    # let's make sure r is positive\n",
    "    assert r >= 0\n",
    "  \n",
    "    # then compute the coordinates\n",
    "    x = r * np.cos(phi)\n",
    "    y = r * np.sin(phi)\n",
    "    \n",
    "    return x, y\n",
    "```\n",
    "\n",
    "Notice that, without the assertion, the function would work for negative radius without complaining, and that is something we want to avoid."
   ]
  },
  {
   "cell_type": "markdown",
   "metadata": {},
   "source": [
    "### Exercise\n",
    "Write a function that counts the events in a given time period. The input parameters should be `time_period` and `lam`. Your function should call the `get_event_times` function. The output should be an integer, the number of events in the time period.\n",
    "\n",
    "Add an `assert` statement to make sure that we have generate enough events."
   ]
  },
  {
   "cell_type": "code",
   "execution_count": 5,
   "metadata": {},
   "outputs": [],
   "source": [
    "from scipy.stats import poisson\n",
    "\n",
    "def count_events(time_period, lam):\n",
    "    # make sure everything is fine\n",
    "    assert time_period > 0\n",
    "    assert lam > 0\n",
    "    \n",
    "    # estimate number of events necessary\n",
    "    num_events = int( poisson(mu=time_period * lam).isf(1e-6))\n",
    "    \n",
    "    # generate event times\n",
    "    event_times = ...\n",
    "        \n",
    "    # make sure that the last event is outside the time period\n",
    "    # you can access the last element of an array 'x' with 'x[-1]'\n",
    "    assert ...\n",
    "    \n",
    "    # see which events are inside the time period\n",
    "    event_inside = event_times < time_period\n",
    "    \n",
    "    # count how many are inside\n",
    "    num_inside = ...\n",
    "    \n",
    "    return num_inside"
   ]
  },
  {
   "cell_type": "markdown",
   "metadata": {},
   "source": [
    "## Checking your results\n",
    "To make sure your functions work correctly, you can use the code below, which compares the number of intervals in a given interval with a Poisson distribution. If everything went well, the histrograms should be one on top of the other!"
   ]
  },
  {
   "cell_type": "code",
   "execution_count": 6,
   "metadata": {},
   "outputs": [],
   "source": [
    "def test_with_numpy(time_period, lam, num_samples):\n",
    "    # generate our results\n",
    "    sample = [\n",
    "        count_events(time_period=time_period, lam=lam)\n",
    "        for _ in range(num_samples)\n",
    "    ]\n",
    "    # compare with real poisson sample\n",
    "    sample_ground_truth = np.random.poisson(lam=lam * time_period, size=num_samples)\n",
    "    return sample, sample_ground_truth"
   ]
  },
  {
   "cell_type": "code",
   "execution_count": 7,
   "metadata": {},
   "outputs": [
    {
     "name": "stderr",
     "output_type": "stream",
     "text": [
      "/home/fontclos/anaconda3/lib/python3.6/site-packages/matplotlib/figure.py:2369: UserWarning: This figure includes Axes that are not compatible with tight_layout, so results might be incorrect.\n",
      "  warnings.warn(\"This figure includes Axes that are not compatible \"\n"
     ]
    },
    {
     "data": {
      "image/png": "[encoded data removed]",
      "text/plain": [
       "<Figure size 1152x720 with 9 Axes>"
      ]
     },
     "metadata": {},
     "output_type": "display_data"
    }
   ],
   "source": [
    "lams = [0.5, 1, 2.4]\n",
    "time_periods = [0.3, 1, 5]\n",
    "\n",
    "fig, axx = plt.subplots(3, 3, figsize=(16, 10), tight_layout=True)\n",
    "axx = axx.reshape(-1)\n",
    "i = 0\n",
    "for lam in lams:\n",
    "    for time_period in time_periods:\n",
    "        \n",
    "        ax = axx[i]\n",
    "        i = i+1\n",
    "        \n",
    "        sample, sample_true = test_with_numpy(time_period=time_period, lam=lam, num_samples=10000)\n",
    "        M = max(max(sample), max(sample_true))\n",
    "        ax.set_title(f\"$\\lambda$ = {lam}\\n$T$ =  {time_period}\")\n",
    "        ax.hist(\n",
    "            sample,\n",
    "            bins=np.arange(-0.5, M + 0.5),\n",
    "            alpha=0.4,\n",
    "            label=\"results\"\n",
    "        );\n",
    "        ax.hist(\n",
    "            sample_true,\n",
    "            bins=np.arange(-0.5, M + 0.5),\n",
    "            alpha=0.3,\n",
    "            label=\"numpy\"\n",
    "        );\n",
    "        ax.set_xlabel(r\"Num events, $k$\")\n",
    "        ax.set_ylabel(f\"$P(k)$\")\n",
    "        ax.legend(loc=(1, 0))"
   ]
  },
  {
   "cell_type": "code",
   "execution_count": null,
   "metadata": {},
   "outputs": [],
   "source": []
  },
  {
   "cell_type": "code",
   "execution_count": null,
   "metadata": {},
   "outputs": [],
   "source": []
  }
 ],
 "metadata": {
  "kernelspec": {
   "display_name": "Python 3",
   "language": "python",
   "name": "python3"
  },
  "language_info": {
   "codemirror_mode": {
    "name": "ipython",
    "version": 3
   },
   "file_extension": ".py",
   "mimetype": "text/x-python",
   "name": "python",
   "nbconvert_exporter": "python",
   "pygments_lexer": "ipython3",
   "version": "3.6.7"
  }
 },
 "nbformat": 4,
 "nbformat_minor": 2
}
