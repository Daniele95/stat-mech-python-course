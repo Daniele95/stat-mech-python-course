{
 "cells": [
  {
   "cell_type": "code",
   "execution_count": 1,
   "metadata": {},
   "outputs": [],
   "source": [
    "# multidimensional arrays\n",
    "import numpy as np\n",
    "\n",
    "# inline plots\n",
    "import matplotlib.pyplot as plt\n",
    "%matplotlib inline\n",
    "\n",
    "# nicer figures\n",
    "import matplotlib as mpl\n",
    "mpl.rcParams['axes.titlesize'] = 16\n",
    "mpl.rcParams['axes.labelsize'] = 14\n",
    "mpl.rcParams['legend.fontsize'] = 12\n",
    "mpl.rcParams['xtick.labelsize'] = 12\n",
    "mpl.rcParams['ytick.labelsize'] = 12\n",
    "mpl.rcParams['axes.spines.right'] = False\n",
    "mpl.rcParams['axes.spines.top'] = False"
   ]
  },
  {
   "cell_type": "markdown",
   "metadata": {},
   "source": [
    "# Generating uniformly distributed random numbers\n",
    "We will use `numpy` to generate random numbers. To generate numbers uniformly distributed between 0 and 1, we can use the function `np.random.uniform()`. If you execute the cell below more than once, you will see how the output changes."
   ]
  },
  {
   "cell_type": "code",
   "execution_count": 2,
   "metadata": {},
   "outputs": [
    {
     "name": "stdout",
     "output_type": "stream",
     "text": [
      "0.3726228542108011\n"
     ]
    }
   ],
   "source": [
    "x = np.random.uniform()\n",
    "print(x)"
   ]
  },
  {
   "cell_type": "markdown",
   "metadata": {},
   "source": [
    "To generate many random numbers at once, use the `size` keyword"
   ]
  },
  {
   "cell_type": "code",
   "execution_count": 3,
   "metadata": {},
   "outputs": [
    {
     "name": "stdout",
     "output_type": "stream",
     "text": [
      "[0.70651713 0.88753754 0.47751257 0.23390835 0.04501484 0.73917194\n",
      " 0.59854739 0.76409508 0.7790738  0.77359956]\n"
     ]
    }
   ],
   "source": [
    "x_1d = np.random.uniform(size=10)\n",
    "print(x_1d)"
   ]
  },
  {
   "cell_type": "markdown",
   "metadata": {},
   "source": [
    "We can also generate a whole matrix of random uniform numbers at once!"
   ]
  },
  {
   "cell_type": "code",
   "execution_count": 4,
   "metadata": {},
   "outputs": [
    {
     "name": "stdout",
     "output_type": "stream",
     "text": [
      "[[0.19161925 0.02770741 0.54225501]\n",
      " [0.64627856 0.65893266 0.52985693]\n",
      " [0.94913113 0.77649988 0.56954353]]\n"
     ]
    }
   ],
   "source": [
    "x_2d = np.random.uniform(size=(3, 3))\n",
    "print(x_2d)"
   ]
  },
  {
   "cell_type": "markdown",
   "metadata": {},
   "source": [
    "### Exercise\n",
    "How would you generate 1000 random numbers uniformely distributed between 5 and 20?"
   ]
  },
  {
   "cell_type": "code",
   "execution_count": 5,
   "metadata": {},
   "outputs": [],
   "source": [
    "# write your code here\n",
    "data = ..."
   ]
  },
  {
   "cell_type": "markdown",
   "metadata": {},
   "source": [
    "### Plotting the density of a sample\n",
    "As a simple sanity check, we want to plot the density of the data we have generated. We will use the function `plt.hist()` to plot the estimated pdf of our randomly generated data:"
   ]
  },
  {
   "cell_type": "code",
   "execution_count": null,
   "metadata": {},
   "outputs": [],
   "source": [
    "fig, ax = plt.subplots(1, 1, figsize=(6, 4))\n",
    "bins = np.linspace(0, 25, num=2 * 26)\n",
    "ax.hist(\n",
    "    data,\n",
    "    bins=bins,\n",
    "    density=True\n",
    ");"
   ]
  },
  {
   "cell_type": "markdown",
   "metadata": {},
   "source": [
    "To make sure our estimation ressembles the actual probability density function of a uniform random variable, we will create a function that computes the pdf of a uniform random variable between $a$ and $b$ at an arbitrary point $x$."
   ]
  },
  {
   "cell_type": "markdown",
   "metadata": {},
   "source": [
    "### Exercise\n",
    "What is the probability density function (pdf) of a uniform random variable between $a$ and $b$?\n",
    "\n"
   ]
  },
  {
   "cell_type": "markdown",
   "metadata": {},
   "source": [
    "### Exercise\n",
    "Write a function that gives the density of a uniform random variable between $a$ and $b$ at an arbitrary point $x$. Notice that you can define optional arguments by including them in the definition and giving them a default value."
   ]
  },
  {
   "cell_type": "code",
   "execution_count": 7,
   "metadata": {},
   "outputs": [],
   "source": [
    "def uniform_pdf(x, a=0, b=1):\n",
    "    if x < a:\n",
    "        return ...\n",
    "    elif x > b:\n",
    "        return ...\n",
    "    else:\n",
    "        return ..."
   ]
  },
  {
   "cell_type": "markdown",
   "metadata": {},
   "source": [
    "Now we can add the expected pdf into the plot. The function `np.linspace(start, stop, num)` generates `num` equally spaces numbers between `start` and `stop`, both included."
   ]
  },
  {
   "cell_type": "code",
   "execution_count": 8,
   "metadata": {},
   "outputs": [],
   "source": [
    "x = np.linspace(start=0, stop=25, num=1000)\n",
    "pdf_x = np.array([\n",
    "    uniform_pdf(t, a=5, b=20)\n",
    "    for t in x \n",
    "])"
   ]
  },
  {
   "cell_type": "code",
   "execution_count": null,
   "metadata": {},
   "outputs": [],
   "source": [
    "# generate a figure with a single subplot, of some size\n",
    "fig, ax = plt.subplots(1, 1, figsize=(6, 4))\n",
    "\n",
    "\n",
    "# plot empirical estimation\n",
    "bins = np.linspace(0, 25, num=2 * 26)\n",
    "ax.hist(\n",
    "    data,\n",
    "    bins=bins,\n",
    "    density=True\n",
    ");\n",
    "\n",
    "# plot theoretical prediction\n",
    "ax.plot(\n",
    "    x, pdf_x,\n",
    "    color=\"red\",\n",
    "    lw=2\n",
    ")\n",
    "\n"
   ]
  },
  {
   "cell_type": "markdown",
   "metadata": {},
   "source": [
    "## Adding labels and legend\n",
    "Axis labels and legends are the most important parts of a plot. Without them, we don't know what is what! So, let us add labels, a legend and a title to our plot"
   ]
  },
  {
   "cell_type": "code",
   "execution_count": null,
   "metadata": {},
   "outputs": [],
   "source": [
    "# generate a figure with a single subplot, of some size\n",
    "fig, ax = plt.subplots(1, 1, figsize=(6, 4))\n",
    "\n",
    "\n",
    "# plot empirical estimation\n",
    "bins = np.linspace(0, 25, num=2 * 26)\n",
    "ax.hist(\n",
    "    data,\n",
    "    bins=bins,\n",
    "    density=True,\n",
    "    label=\"Empirical\"\n",
    ");\n",
    "\n",
    "# plot theoretical prediction\n",
    "ax.plot(\n",
    "    x, pdf_x,\n",
    "    color=\"red\",\n",
    "    lw=2,\n",
    "    label=\"Theoretical\"\n",
    ")\n",
    "\n",
    "# add labels for axes\n",
    "ax.set_xlabel(r\"$x$\")\n",
    "ax.set_ylabel(r\"Density, $f(x)$\")\n",
    "\n",
    "# add legend\n",
    "ax.legend(loc=(0.95, 0.7), frameon=False)\n",
    "\n",
    "# add title\n",
    "ax.set_title(f\"The uniform distribution $U(a, b)$\\n$a$=5, $b$=20\");"
   ]
  },
  {
   "cell_type": "markdown",
   "metadata": {},
   "source": [
    "### Exercise\n",
    "Verify that, if the sample size increase, our empirical estimation gets closer to the theoretical prediction. Do so for the following cases:\n",
    "+ $a=0, b=1$\n",
    "+ $a=-3, b=-1.2$\n",
    "+ $a=1800, b=1990$\n",
    "\n",
    "**Hint** Instead of copy-pasting the code to generate the figure many times, you could put the code inside a function `plot_comparison(N, a, b)`. The function will have 3 arguments: the sample size $N$ and the bounds $a, b$ of the uniform random variable. You can set a title that depends on the values of $a, b, N$ as follows\n",
    "\n",
    "```python\n",
    "ax.set_title(f\"The uniform distribution $U(a, b)$\\n$a$={a}, $b$={b}, $N$={N}\");\n",
    "```\n"
   ]
  },
  {
   "cell_type": "code",
   "execution_count": 12,
   "metadata": {},
   "outputs": [],
   "source": [
    "def plot_comparison(N, a, b):\n",
    "    # generate the random data\n",
    "    data = ...\n",
    "    \n",
    "    # compute the theoretical distribution\n",
    "    dx = (b - a) / 10\n",
    "    x = np.linspace(a - dx, b + dx, num=1000)\n",
    "    pdf_x = ...\n",
    "    \n",
    "    # generate a figure with a single subplot, of some size\n",
    "    fig, ax = plt.subplots(1, 1, figsize=(6, 4))\n",
    "    \n",
    "    # plot empirical estimation\n",
    "    ax.hist(...);\n",
    "\n",
    "    # plot theoretical prediction\n",
    "    ax.plot(...)\n",
    "\n",
    "    # add labels for axes\n",
    "    ...\n",
    "    ...\n",
    "    \n",
    "    # add legend\n",
    "    ...\n",
    "    \n",
    "    # add title\n",
    "    ..."
   ]
  },
  {
   "cell_type": "code",
   "execution_count": null,
   "metadata": {},
   "outputs": [],
   "source": [
    "# plot all comparison in a loop\n",
    "for (a, b) in [(0, 1), (-3, -1.2), (1800, 1990)]:\n",
    "    for N in [100, 300, 1000, 3000, 10000]:\n",
    "        ..."
   ]
  },
  {
   "cell_type": "markdown",
   "metadata": {},
   "source": [
    "## Generating random numbers with non-uniform distributions\n",
    "In many cases, we want to draw random numbers from non-uniform distributions. For instance, we might want to generate Gaussian, exponential or Poisson distributed random numbers. How can we do this in plain python?\n",
    "\n",
    "### Inverse transform sampling\n",
    "The most general way of generating random numbers under a given distribution is known as **inverse transform sampling**. You can read about the method [here](link), but the key theoretical foundation of the method is very simple:\n",
    "\n",
    "Given a continous random variable $X$ with cumulative distribution function $F$, the random variable $F(X)$ has a uniform distribution between 0 and 1. \n",
    "\n",
    "$$\n",
    "F(X) \\sim U(0, 1)\n",
    "$$\n",
    "\n",
    "Think about it for a second. Here $F(X)$ is not a function, but a random variable, because we apply a function, $F$, to a random variable, $X$, getting a new random variable, $Y \\equiv F(X)$. The statement is then simply that $Y$ is a uniform random variable, no matter what form $F$ takes.\n",
    "\n",
    "As a consequence, one can see that $X = F^{-1}(U)$, where $U$ is a uniform random variable between 0 and 1. This gives as a very simple way of drawing random numbers from an arbitrary continous random variable $X$:\n",
    "\n",
    "1. Generate a uniform random number, $u$\n",
    "2. Compute $x = F^{-1}(u)$\n",
    "\n",
    "where $F$ is the cumulative distribution function of $X$."
   ]
  },
  {
   "cell_type": "markdown",
   "metadata": {},
   "source": [
    "### Exercise\n",
    "Consider the **exponential** distribution, with probability density function \n",
    "$$\n",
    "f(x) = \\lambda e^{-\\lambda x}\n",
    "$$\n",
    "and cumulative distribution function\n",
    "$$\n",
    "F(x) = 1 - e^{-\\lambda x}\n",
    "$$\n",
    "1. Write a function that generates exponentially-distributed random numbers, using the inverse transform sampling method. For simplicity, set $\\lambda = 1$.\n",
    "2. Generate 1000 exponentially-distributed random numbers with your function.\n",
    "3. Plot a histogram of your generated sample, together with the theoretical probability density function."
   ]
  },
  {
   "cell_type": "code",
   "execution_count": 14,
   "metadata": {},
   "outputs": [],
   "source": [
    "def inv_cdf_expo(y):\n",
    "    \"\"\"\n",
    "    The inverse of y = 1 - exp(-x)\n",
    "    \"\"\"\n",
    "    x = ...\n",
    "    return x\n",
    "\n",
    "\n",
    "def inverse_sampling(size, inv_cdf):\n",
    "    # generate uniform data of given_size\n",
    "    u = ...\n",
    "    # inverse transform it\n",
    "    x = ...\n",
    "    return x"
   ]
  },
  {
   "cell_type": "code",
   "execution_count": null,
   "metadata": {},
   "outputs": [],
   "source": [
    "x = np.linspace(0, 8, num=200)\n",
    "pdf_x = ...\n",
    "data = ...\n",
    "\n",
    "fig, ax = plt.subplots(1, 1, figsize=(6, 5))\n",
    "ax.hist(...)\n",
    "ax.plot(...)\n",
    "ax.set_yscale(\"log\")\n"
   ]
  },
  {
   "cell_type": "markdown",
   "metadata": {},
   "source": [
    "## In practical situations, do not reinvent the wheel!\n",
    "What we did so far is a good exercise to get comfortable with python, random number generation, histograms and probabilities.\n",
    "\n",
    "If you need to generate exponential random numbers as part of a larger project, however, it is better to use a function from a **well-tested**, **well-documented** library such as [numpy]() or [scipy](). For instance:\n",
    "\n",
    "```python\n",
    "import numpy as np\n",
    "x = np.random.exponential(scale=1, size=1000)\n",
    "```\n",
    "\n",
    "That is the beauty of **open-source** languages like python: there is a community of developers that contribute their code to standardized libraries in an organized fashion. These libraries are less likely than yours to contain errors or bugs, because they are used by many people and such bugs are reported and fixed very quickly. For instance numpy's `np.random` submodel contains functions to generate random numbers from many distributions, see [the documentation for numpy.random](https://docs.scipy.org/doc/numpy/reference/routines.random.html#distributions)\n",
    "\n",
    "However, as you can see **not all** distributions are included in numpy. If you need to work with a less well-known distribution, you might need to implement that yourself. In such case, knowing the **inverse sampling** method will come in handy!\n",
    "\n"
   ]
  }
 ],
 "metadata": {
  "kernelspec": {
   "display_name": "Python 3",
   "language": "python",
   "name": "python3"
  },
  "language_info": {
   "codemirror_mode": {
    "name": "ipython",
    "version": 3
   },
   "file_extension": ".py",
   "mimetype": "text/x-python",
   "name": "python",
   "nbconvert_exporter": "python",
   "pygments_lexer": "ipython3",
   "version": "3.6.7"
  }
 },
 "nbformat": 4,
 "nbformat_minor": 2
}
