{
 "cells": [
  {
   "cell_type": "code",
   "execution_count": null,
   "metadata": {},
   "outputs": [],
   "source": [
    "# multidimensional arrays\n",
    "import numpy as np\n",
    "\n",
    "# inline plots\n",
    "import matplotlib.pyplot as plt\n",
    "%matplotlib inline\n",
    "\n",
    "# nicer figures\n",
    "import matplotlib as mpl\n",
    "mpl.rcParams['axes.titlesize'] = 16\n",
    "mpl.rcParams['axes.labelsize'] = 14\n",
    "mpl.rcParams['legend.fontsize'] = 12\n",
    "mpl.rcParams['xtick.labelsize'] = 12\n",
    "mpl.rcParams['ytick.labelsize'] = 12\n",
    "mpl.rcParams['axes.spines.right'] = False\n",
    "mpl.rcParams['axes.spines.top'] = False"
   ]
  },
  {
   "cell_type": "markdown",
   "metadata": {},
   "source": [
    "# Return to the origin\n",
    "In this notebook, we will do numerical simulations of $d$-dimensional random walks. Then we will make a comparison between our numerical results for the **expected number of returns to the origin** and compare them with the answer to *Exercise 2.1: Return to the origin in random walks.*"
   ]
  },
  {
   "cell_type": "markdown",
   "metadata": {},
   "source": [
    "## Generating Random Walks\n"
   ]
  },
  {
   "cell_type": "markdown",
   "metadata": {},
   "source": [
    "### Exercise\n",
    "Write a function that generates a random walk of given length in $d$ dimensions. Your random walker should move as follows:\n",
    "\n",
    "+ At each time-step, the walker moves only in one direction.\n",
    "+ At each time-step, the walker moves only by -1 or +1\n",
    "\n",
    "Your function should return a numpy array of shape (`length`, `dim`). Example:\n",
    "```python\n",
    ">>> # create a RW of length 10 in dimension 3\n",
    ">>> traj = get_traj(length=10, dim=3)\n",
    ">>> # check that the output has the right shape\n",
    ">>> traj.shape\n",
    "(10, 3)\n",
    ">>> # position after 4 time-steps\n",
    ">>> traj[4]\n",
    "array([ 3., -1., -1.])\n",
    ">>> # second component of the trajectory, for all times\n",
    ">>> # python uses 0-indexing!\n",
    ">>> traj[:, 1] \n",
    "array([0, -1., -1., -1., -1.,  0.,  0.,  1.,  1.,  1.])\n",
    "```\n"
   ]
  },
  {
   "cell_type": "code",
   "execution_count": null,
   "metadata": {},
   "outputs": [],
   "source": [
    "def get_traj(length=100, dim=2):\n",
    "    \"\"\"Generate a RW in d dimensions\n",
    "    \n",
    "    Parameters\n",
    "    ----------\n",
    "    length: int\n",
    "        Length of the RW.\n",
    "    dim: int\n",
    "        Dimension of the RW\n",
    "\n",
    "\n",
    "    Returns\n",
    "    -------\n",
    "    traj : np.ndarray, (length, dim)\n",
    "        The positions of the RW.\n",
    "    \n",
    "    Notes\n",
    "    -----\n",
    "    At each time-step, the walker moves in only one direction.\n",
    "    At each time-step, the walker moves by -1 or +1\n",
    "    \"\"\"\n",
    "    ...\n",
    "    ...\n",
    "    ...\n",
    "    return traj"
   ]
  },
  {
   "cell_type": "markdown",
   "metadata": {},
   "source": [
    "### Verification\n",
    "To make sure that your function works correctly, execute the following cell. Notice the use of `assert` statements: execution should fail if something goes wrong. If everything is fine, nothing should happen."
   ]
  },
  {
   "cell_type": "code",
   "execution_count": null,
   "metadata": {},
   "outputs": [],
   "source": [
    "# basic checks for your RW generator\n",
    "for dim in range(1, 5):\n",
    "    for length in [10, 100, 200, 500]:\n",
    "        traj = get_traj(length=length, dim=dim)\n",
    "        # make sure traj has the right shape\n",
    "        assert traj.shape == (length, dim)\n",
    "        # make sure all steps are -1 or 1 in only one direction\n",
    "        assert np.all(np.sum(np.diff(traj, axis=0) != 0, axis=1) == np.ones(length - 1))"
   ]
  },
  {
   "cell_type": "markdown",
   "metadata": {},
   "source": [
    "### Exercise\n",
    "Plot a random walk of length $10^4$ for $d=1$ (time in x-axis, position in y-axis) and $d=2$ (x,y components in x,y-axis). Remember to use **axis labels**."
   ]
  },
  {
   "cell_type": "code",
   "execution_count": null,
   "metadata": {},
   "outputs": [],
   "source": [
    "# it is better if you use one cell to generate the random walks, and a second cell to plot them\n",
    "RW_1d = ...\n",
    "RW_2d = ..."
   ]
  },
  {
   "cell_type": "code",
   "execution_count": null,
   "metadata": {},
   "outputs": [],
   "source": [
    "# We generate a figure with two subplots, called axis in matplotlib.\n",
    "#\n",
    "# To use the left subplot, we do\n",
    "# ax1.plot(...)\n",
    "#\n",
    "# while to use the right subplot, we do\n",
    "# ax2.plot(..)\n",
    "fig, (ax1, ax2) = plt.subplots(1, 2, figsize=(15, 4))\n",
    "..."
   ]
  },
  {
   "cell_type": "markdown",
   "metadata": {},
   "source": [
    "## Counting the number of returns to the origin\n",
    "Since we are interested in how **the expected number of returns to the origin** scales with the RW length, we don't need to store the whole trajectory of each simulation (we will be performing many simulations!). "
   ]
  },
  {
   "cell_type": "markdown",
   "metadata": {},
   "source": [
    "### Exercise\n",
    "Write a function that generates a RW of given length and dimension (calling `get_traj`), and returns the number of times it returned to the origin. To count the number of returns to the origin, you might need to use the following functions:\n",
    "```python\n",
    "np.all()\n",
    "np.zeros()\n",
    "```"
   ]
  },
  {
   "cell_type": "code",
   "execution_count": null,
   "metadata": {},
   "outputs": [],
   "source": [
    "def get_num_returns(length, dim):\n",
    "    # generate a RW of given length and dimension\n",
    "    traj = ...\n",
    "    # count how many times it goes through the origin\n",
    "    ...\n",
    "    ...\n",
    "    return num_returns_to_origin"
   ]
  },
  {
   "cell_type": "markdown",
   "metadata": {},
   "source": [
    "### Exercise\n",
    "Write a function that computes the expected number of returns to the origin for a given length and dimension. Your function will call `get_num_returns()`, and should have an additional parameter that sets the sample size."
   ]
  },
  {
   "cell_type": "code",
   "execution_count": null,
   "metadata": {},
   "outputs": [],
   "source": [
    "def get_average_num_returns(length, dim, num_trajs=200):\n",
    "    ...\n",
    "    ...\n",
    "    ...\n",
    "    return average_num_returns"
   ]
  },
  {
   "cell_type": "markdown",
   "metadata": {},
   "source": [
    "## Comparing with analytical results\n",
    "We are now ready to compare our analytical results with numerical simulations! We want to plot the expected number of returns to the origin as a function of the RW length. To do this, it is useful to first define an array of RW lengths."
   ]
  },
  {
   "cell_type": "code",
   "execution_count": null,
   "metadata": {},
   "outputs": [],
   "source": [
    "# define range of RW lengths\n",
    "length_min = 10\n",
    "length_max = 100000\n",
    "# generate points logarithmically spaces\n",
    "# and convert them to integers\n",
    "length_array = np.array([\n",
    "    int(x)\n",
    "    for x in np.geomspace(length_min, length_max, num=20)\n",
    "])"
   ]
  },
  {
   "cell_type": "markdown",
   "metadata": {},
   "source": [
    "(tip: if your RW generating function is not very efficient, you might want to decrease `length_min`)  \n",
    "\n",
    "Executing the following cell will run all simulations for $d=1$\n"
   ]
  },
  {
   "cell_type": "code",
   "execution_count": null,
   "metadata": {},
   "outputs": [],
   "source": [
    "dim=1\n",
    "num_returns_array = np.array([\n",
    "    get_average_num_returns(length=length, dim=dim)\n",
    "    for length in length_array\n",
    "])"
   ]
  },
  {
   "cell_type": "markdown",
   "metadata": {},
   "source": [
    "### Exercise\n",
    "Plot the average number of returns to the origin of a 1D RW as a function of the RW length, together with the analytical result from problem 2.1. Do your results verify the $n^{1/2}$ scaling? **Tip** Use double-logarithmic scales in your plot. Remember to include label axis, and a legend!"
   ]
  },
  {
   "cell_type": "code",
   "execution_count": null,
   "metadata": {},
   "outputs": [],
   "source": [
    "fig, ax = plt.subplots(1, 1, figsize=(5, 4))\n",
    "# plot theoretical result\n",
    "ax.loglog(..., label=\"Theory\")\n",
    "# plot numerical result\n",
    "ax.loglog(..., label=\"Numerics\")\n",
    "# add axis labels\n",
    "...\n",
    "...\n",
    "# add a legend\n",
    "...\n",
    "# add a title (e.g. that says what dimension we used)\n",
    "ax.set_title(...)"
   ]
  },
  {
   "cell_type": "markdown",
   "metadata": {},
   "source": [
    "### Exercise\n",
    "Plot the average number of returns to the origin of a 2D RW as a function of the RW length, together with the analytical result from problem 2.1. Do your results verify the $log(n)$ scaling? What are the best axis scales to use in this case?"
   ]
  },
  {
   "cell_type": "code",
   "execution_count": null,
   "metadata": {},
   "outputs": [],
   "source": [
    "# do the simulations for d=2\n",
    "..."
   ]
  },
  {
   "cell_type": "code",
   "execution_count": null,
   "metadata": {},
   "outputs": [],
   "source": [
    "# plot the numerical results + theory\n",
    "...\n",
    "...\n",
    "..."
   ]
  },
  {
   "cell_type": "markdown",
   "metadata": {},
   "source": [
    "### Exercise\n",
    "Show numerically that, for $d=3$ and $d=4$, the expected number of returns to the origin is **constant**, as we proved in problem 2.1 (actually, we proved that that holds for any $d \\geq 3$)."
   ]
  },
  {
   "cell_type": "code",
   "execution_count": null,
   "metadata": {},
   "outputs": [],
   "source": []
  }
 ],
 "metadata": {
  "kernelspec": {
   "display_name": "Python 3",
   "language": "python",
   "name": "python3"
  },
  "language_info": {
   "codemirror_mode": {
    "name": "ipython",
    "version": 3
   },
   "file_extension": ".py",
   "mimetype": "text/x-python",
   "name": "python",
   "nbconvert_exporter": "python",
   "pygments_lexer": "ipython3",
   "version": "3.7.6"
  }
 },
 "nbformat": 4,
 "nbformat_minor": 4
}
