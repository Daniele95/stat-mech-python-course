{
 "cells": [
  {
   "cell_type": "code",
   "execution_count": null,
   "metadata": {},
   "outputs": [],
   "source": [
    "import numpy as np\n",
    "import matplotlib.pyplot as plt\n",
    "from IPython import display\n",
    "%matplotlib inline"
   ]
  },
  {
   "cell_type": "code",
   "execution_count": null,
   "metadata": {},
   "outputs": [],
   "source": [
    "import matplotlib as mpl\n",
    "\n",
    "mpl.rcParams['axes.titlesize'] = 16\n",
    "mpl.rcParams['axes.labelsize'] = 14\n",
    "mpl.rcParams['legend.fontsize'] = 12\n",
    "mpl.rcParams['xtick.labelsize'] = 12\n",
    "mpl.rcParams['ytick.labelsize'] = 12"
   ]
  },
  {
   "attachments": {
    "image.png": {
     "image/png": "[encoded data removed]"
    }
   },
   "cell_type": "markdown",
   "metadata": {},
   "source": [
    "# The Ising model in 2D\n",
    "The Hamiltonian of the Ising model is\n",
    "\n",
    "$$\n",
    "\\mathcal{H} = -\\sum_{\\langle ij \\rangle} J s_i s_j - H \\sum_i s_i\n",
    "$$\n",
    "\n",
    "In this exercise, we focus on the case $J=1, H=0$, that is, a ferromagnetic system with no external field. Remember that the sum $\\langle ij \\rangle$ runs over neighbouring sites only. In our 2D lattice, each site has 4 neighbours. \n",
    "\n",
    "<img src=\"attachment:image.png\" width=\"250\"> \n"
   ]
  },
  {
   "attachments": {
    "image.png": {
     "image/png": "[encoded data removed]"
    }
   },
   "cell_type": "markdown",
   "metadata": {},
   "source": [
    "We will work with **periodic boundary conditions**, so that all spins have 4 neighbours. \n",
    "\n",
    "<img src=\"attachment:image.png\" width=\"250\"> \n"
   ]
  },
  {
   "cell_type": "markdown",
   "metadata": {},
   "source": [
    "# The Metropolis algorithm\n",
    "We will build a simple implementation of the **Metropolis** algorithm for the 2D Ising model. \n",
    "\n",
    "As a reminder, a single update of the Metropolis algorithm works as follows:\n",
    "\n",
    "1. Pick a site $(i, j)$ at random.\n",
    "2. Calculate the energy change $\\Delta E$ that flipping the spin $s_{ij}$ would produce.\n",
    "3. If $\\Delta E <0$, flip the spin with probability $1$.\n",
    "4. If $\\Delta E >0$, flip the spin with probability $e^{-\\beta \\Delta E}$."
   ]
  },
  {
   "cell_type": "markdown",
   "metadata": {},
   "source": [
    "### Exercice 4.1\n",
    "Write a function that, given an integer $N$, returns an $N \\times N$ array whose elements are randomly picked from {-1, 1}. "
   ]
  },
  {
   "cell_type": "code",
   "execution_count": null,
   "metadata": {},
   "outputs": [],
   "source": [
    "def create_initial_config(N=None):\n",
    "    \"\"\"\n",
    "    Create the starting initial configuration.\n",
    "    \n",
    "    All elements are {-1, 1} with 50% prob.\n",
    "    The lattice is a square of size N.\n",
    "    \n",
    "    Parameters\n",
    "    ----------\n",
    "    N : int\n",
    "        The system size.\n",
    "\n",
    "    Returns\n",
    "    -------\n",
    "    config : np.array, (N, N)\n",
    "        A random {-1, 1} array of size (N, N).\n",
    "    \"\"\"\n",
    "    config = ...\n",
    "    return config"
   ]
  },
  {
   "cell_type": "markdown",
   "metadata": {},
   "source": [
    "Let us create an initail configuration with our `create_inital_config_function`. A system size of $N=100$ will be enough."
   ]
  },
  {
   "cell_type": "code",
   "execution_count": null,
   "metadata": {},
   "outputs": [],
   "source": [
    "config = create_initial_config(N=100)"
   ]
  },
  {
   "cell_type": "markdown",
   "metadata": {},
   "source": [
    "To plot our system we can use `plt.imshow()`, as follows:"
   ]
  },
  {
   "cell_type": "code",
   "execution_count": null,
   "metadata": {},
   "outputs": [],
   "source": [
    "plt.imshow(config);"
   ]
  },
  {
   "cell_type": "markdown",
   "metadata": {},
   "source": [
    "### Exercise 4.2\n",
    "We will write our Metropolis update function. Given a site $(i, j)$, what is the change in energy $\\Delta E$ that flipping $S(i, j)$ entails?\n",
    "Recall that only 4 spins are connected to $(i, j)$, so you don't need to compute the energy of the whole system."
   ]
  },
  {
   "cell_type": "markdown",
   "metadata": {},
   "source": [
    "*Your answer here*"
   ]
  },
  {
   "cell_type": "markdown",
   "metadata": {},
   "source": [
    "### Exercise 4.3\n",
    "Write a function called `metropolis_single_update()`.  \n",
    "The **input** should be:\n",
    "\n",
    "+ *config*, a lattice configuration as an (N, N) array.\n",
    "+ *T*, the temperatue.\n",
    "\n",
    "There is no need to return anything since in python, functions can modify its input, so we will be updating config *inplace*. But it is useful to return the energy change $\\Delta E$ if one later wants to track the energy during simulations. To simplify things, we will use **periodic boundary conditions** (in python, the modulo operator is `%`)."
   ]
  },
  {
   "cell_type": "code",
   "execution_count": null,
   "metadata": {},
   "outputs": [],
   "source": [
    "def metropolis_single_update(config=None, T=None):\n",
    "    '''\n",
    "    Do a single Monte Carlo update using Metropolis algorithm.\n",
    "    \n",
    "    Parameters\n",
    "    ----------\n",
    "    config : np.array, (N, N)\n",
    "        The current configuration.\n",
    "    T : float\n",
    "        The temperature.\n",
    "\n",
    "    '''\n",
    "    # make sure config is square\n",
    "    N, M = config.shape\n",
    "    assert ...\n",
    "    \n",
    "    # choose random site\n",
    "    i = ...\n",
    "    j = ...\n",
    "    s =  config[i, j]\n",
    "        \n",
    "    # compute energy cost of flip\n",
    "    # DeltaE is the possible energy cost\n",
    "    # effDeltaE is the real energy cost (depending on whether we did the flip or not)\n",
    "    DeltaE = ...\n",
    "    effDeltaE = 0\n",
    "\n",
    "    # case DeltaE < 0, flip the spin with prob 1 \n",
    "    if DeltaE < 0:\n",
    "        # flip the sping\n",
    "        s *= -1\n",
    "        # set effective DeltaE to DeltaE \n",
    "        effDeltaE = ...\n",
    "        \n",
    "    # case DeltaE >= 0\n",
    "    else:\n",
    "        # flip the spin with certain probability\n",
    "        if ...:\n",
    "            # flip the sping\n",
    "            s *= -1\n",
    "            # set effective Delta E \n",
    "            effDeltaE = ...\n",
    "        \n",
    "    # update configuration\n",
    "    # notice there is no need to return the whole configuration, the function\n",
    "    # will modify config _in_place_\n",
    "    config[i, j] = s\n",
    "    \n",
    "    # but it is clever to return the effective DeltaE, since we have already computed it\n",
    "    # notice that if we didn't flip the spin, the change in energy is 0\n",
    "    return effDeltaE"
   ]
  },
  {
   "cell_type": "markdown",
   "metadata": {},
   "source": [
    "## Visualizing the simulation on real time\n",
    "To see if our Metropolis algorithm works, you might want to simulate systems at different temperatures, and observe how the configuration evolves trought time. To do this you need the `display` module. Below you will find an example of how to use it.\n",
    "\n",
    "For the 2D Ising model, the **critical temperature** is known to be\n",
    "$$\n",
    "T_c = \\frac{2}{\\ln(1+\\sqrt{2})} \\simeq 2.2691853...\n",
    "$$\n",
    "(with $k_B=1$). Try executing the cell below at different values of the temperature, for different system size. "
   ]
  },
  {
   "cell_type": "code",
   "execution_count": null,
   "metadata": {},
   "outputs": [],
   "source": [
    "T_c = 2/np.log(1+np.sqrt(2))\n",
    "\n",
    "# create initial random configuration\n",
    "config = create_initial_config(N=100)\n",
    "\n",
    "# set up figure, plot first frame\n",
    "fig, ax = plt.subplots(1, 1, figsize=(6,5))\n",
    "# draw the initial configuration,\n",
    "# naming the plot \"im\".\n",
    "im = ax.imshow(config)\n",
    "\n",
    "for t in range(100000):\n",
    "    # update the system\n",
    "    DeltaE = metropolis_single_update(config, T=T_c)\n",
    "    # replot every 1000 MC updates\n",
    "    if t%1000==0:\n",
    "        # update the data of the plot (not the whole figure!)\n",
    "        im.set_data(config)\n",
    "        # rerender\n",
    "        display.display(plt.gcf())\n",
    "        display.clear_output(wait=True)"
   ]
  },
  {
   "cell_type": "markdown",
   "metadata": {},
   "source": [
    "### Exercice 4.4\n",
    "Write a function that computes the energy of a configuration, and another that tracks its evolution over time."
   ]
  },
  {
   "cell_type": "code",
   "execution_count": null,
   "metadata": {},
   "outputs": [],
   "source": [
    "def get_energy(config):\n",
    "    \"\"\"\n",
    "    Compute the energy of a configuration.\n",
    "    \n",
    "    The energy is defined as $E = -\\sum_{(a, b)} S_a S_b$,    \n",
    "    where the sum runs over pairs of adjacent spins.\n",
    "    \n",
    "    Parameters\n",
    "    ----------\n",
    "    config : np.array, (N, N)\n",
    "        The system configuration.\n",
    "        \n",
    "        \n",
    "    Returns\n",
    "    -------\n",
    "    E : float\n",
    "        The energy of the configuration.\n",
    "    \"\"\"\n",
    "    N = len(config)\n",
    "    # list of pairs of adjacent sites as four-element tuples:\n",
    "    # (i1, j1, i2, j2) represents two adjacent sites located\n",
    "    # at (i1, j1) and (i2, j2)\n",
    "    horizontal_edges = [\n",
    "        (..., ..., ..., ...)\n",
    "        for i in range(N) for j in range(N)\n",
    "    ]\n",
    "    vertical_edges = [\n",
    "        (..., ..., ..., ...)\n",
    "        for i in range(N) for j in range(N)\n",
    "    ]\n",
    "    # summing lists in python concatenates them\n",
    "    # [1, 2, 3] + [4, 5] = [1, 2, 3, 4, 5]\n",
    "    edges = horizontal_edges + vertical_edges\n",
    "    E = 0\n",
    "    for i1, j1, i2, j2 in edges:\n",
    "        E -= ...\n",
    "    \n",
    "    return E"
   ]
  },
  {
   "cell_type": "code",
   "execution_count": null,
   "metadata": {},
   "outputs": [],
   "source": [
    "def get_energy_evolution(N=20, T=T_c, n_updates=50000):\n",
    "    \"\"\"\n",
    "    Compute the energy evolution of a 2D Ising instance.\n",
    "    \n",
    "    Parameters\n",
    "    ----------\n",
    "    N : int\n",
    "        The system size.\n",
    "    T : float\n",
    "        The temperature.\n",
    "    n_updates : int\n",
    "        Number of Metropolis updates.\n",
    "        \n",
    "    Returns\n",
    "    -------\n",
    "    Es : np.array, (n_updates, )\n",
    "    \"\"\"\n",
    "    \n",
    "    ...\n",
    "    ...\n",
    "    ...\n",
    "    \n",
    "    return Es"
   ]
  },
  {
   "cell_type": "markdown",
   "metadata": {},
   "source": [
    "### Exercise 4.5\n",
    "Compute the energy of your system during a long simulation, and plot it as a function of time. **Tip** Use logarithmic x-axis!"
   ]
  },
  {
   "cell_type": "code",
   "execution_count": null,
   "metadata": {},
   "outputs": [],
   "source": [
    "energy_evolution = ..."
   ]
  },
  {
   "cell_type": "code",
   "execution_count": null,
   "metadata": {},
   "outputs": [],
   "source": [
    "fig, ax = plt.subplots(1, 1, figsize=(6, 4))\n",
    "\n",
    "ax.semilogx(..., label=...)\n",
    "\n",
    "ax.set_xlabel(...)\n",
    "ax.set_ylabel(...)\n",
    "ax.legend(...)"
   ]
  },
  {
   "cell_type": "markdown",
   "metadata": {},
   "source": [
    "### Exercise 4.6\n",
    "Can you distinguish two qualitatively different periods? What do they correspond to?"
   ]
  },
  {
   "cell_type": "markdown",
   "metadata": {},
   "source": [
    "*Your answer here*"
   ]
  },
  {
   "cell_type": "markdown",
   "metadata": {},
   "source": [
    "# Efficient Metropolis\n",
    "Our implementation of the Ising model was not very efficient. To do this exercice, we will use part of the code from Sethna's book, which is much more efficient and can be found here:\n",
    "\n",
    "[Sethan's book computer exercices](http://pages.physics.cornell.edu/~myers/teaching/ComputationalMethods/ComputerExercises/Ising/Ising.html)\n",
    "\n",
    "To import code from an external file, we need to add its directory to the PATH\n",
    "\n"
   ]
  },
  {
   "cell_type": "code",
   "execution_count": null,
   "metadata": {},
   "outputs": [],
   "source": [
    "import sys\n",
    "sys.path.append(\"../code/\")\n",
    "from ising_sethna import IsingModel"
   ]
  },
  {
   "cell_type": "markdown",
   "metadata": {},
   "source": [
    "Their implementation is based on a `Class`, which means we need to instantiate the model. For instance:"
   ]
  },
  {
   "cell_type": "code",
   "execution_count": null,
   "metadata": {},
   "outputs": [],
   "source": [
    "# create an instance of IsingModel\n",
    "ising = IsingModel(N=100)"
   ]
  },
  {
   "cell_type": "code",
   "execution_count": null,
   "metadata": {},
   "outputs": [],
   "source": [
    "# the state of the system is stored in .lattice\n",
    "ising.lattice"
   ]
  },
  {
   "cell_type": "code",
   "execution_count": null,
   "metadata": {},
   "outputs": [],
   "source": [
    "mpl.rcParams['axes.spines.right'] = True\n",
    "mpl.rcParams['axes.spines.top'] = True\n",
    "plt.imshow(ising.lattice)"
   ]
  },
  {
   "cell_type": "markdown",
   "metadata": {},
   "source": [
    "Notice that this implementation uses 0, 1 spins instead of -1, 1 as we are used to! To run the simulation, we call the `.SweepMetropolis()` method. If you go to the source file at `SethnasBookCode/Ising.py`, you can inspect all the code. You will notice that all `.Sweep...()` methods perform $N^2$ updates per time-step. This is useful because time-scales become independent of system size."
   ]
  },
  {
   "cell_type": "code",
   "execution_count": null,
   "metadata": {},
   "outputs": [],
   "source": [
    "ising.SweepMetropolis(nTimes=100)"
   ]
  },
  {
   "cell_type": "code",
   "execution_count": null,
   "metadata": {},
   "outputs": [],
   "source": [
    "plt.imshow(ising.lattice)"
   ]
  },
  {
   "cell_type": "markdown",
   "metadata": {},
   "source": [
    "The cell bellow will display 3 systems side-by-side, running at different temperatures. All parameters are set at the top. Try changing some values and see what happens."
   ]
  },
  {
   "cell_type": "code",
   "execution_count": null,
   "metadata": {},
   "outputs": [],
   "source": [
    "#################\n",
    "# set parameters\n",
    "system_size = 100\n",
    "H = 0.0\n",
    "T_below = 1.5\n",
    "T_critical = 2.269185314213022\n",
    "T_above = 3.5\n",
    "n_sweeps = 100\n",
    "###############\n",
    "\n",
    "# create three instances of IsingModel\n",
    "ising_below = IsingModel(N=system_size, T=T_below, H=H)\n",
    "ising_critical = IsingModel(N=system_size, T=T_critical, H=H)\n",
    "ising_above = IsingModel(N=system_size, T=T_above, H=H)\n",
    "\n",
    "# give them names\n",
    "isings = [ising_below, ising_critical, ising_above]\n",
    "labels = [\"below $T_c$\", \"at $T_c$\", \"above $T_c$\"]"
   ]
  },
  {
   "cell_type": "code",
   "execution_count": null,
   "metadata": {},
   "outputs": [],
   "source": [
    "fig, axx = plt.subplots(1, 3, figsize=(17,4))\n",
    "heatmap = {}\n",
    "for ax, ising, label in zip(axx, isings, labels):\n",
    "    heatmap[label] = ax.imshow(ising.lattice)\n",
    "    ax.set_title(label, fontsize=16)\n",
    "\n",
    "for _ in range(n_sweeps):\n",
    "    for ax, ising, label in zip(axx, isings, labels):\n",
    "        ising.SweepMetropolis(nTimes=1)\n",
    "        heatmap[label].set_data(ising.lattice)\n",
    "    display.display(plt.gcf())\n",
    "    display.clear_output(wait=True)"
   ]
  },
  {
   "cell_type": "markdown",
   "metadata": {},
   "source": [
    "### Exercice 4.7\n",
    "How much faster is Sethna's implementation with respect to ours? Use the cell magic `%%timeit` to measure how long a command takes to execute.\n",
    "\n",
    "To do a fair comparison, remember to take into account what \"one update\" means for each case."
   ]
  },
  {
   "cell_type": "code",
   "execution_count": null,
   "metadata": {},
   "outputs": [],
   "source": [
    "%%timeit\n",
    "# your Ising implementation running for some number of updates\n",
    "..."
   ]
  },
  {
   "cell_type": "code",
   "execution_count": null,
   "metadata": {},
   "outputs": [],
   "source": [
    "%%timeit\n",
    "# Sethan's implementation running for some **equivalent** number of updates\n",
    "..."
   ]
  },
  {
   "cell_type": "markdown",
   "metadata": {},
   "source": [
    "*Your answer here*"
   ]
  },
  {
   "cell_type": "markdown",
   "metadata": {},
   "source": [
    "## Magnetization\n",
    "We will now compute the magnetization $M$ as a function of the temperature $T$. To speed up simulations even more, we will use the Wolff algorithm, which Sethna's code already implements in the `.SweepWolff()` method."
   ]
  },
  {
   "cell_type": "markdown",
   "metadata": {},
   "source": [
    "### Exercise 4.8\n",
    "For a system of size $N=100$, approximately how many sweeps of the Wolff algorithm are necessary in practice to be in equilibrium? Try starting with smaller values of $N$, and increase gradually. "
   ]
  },
  {
   "cell_type": "code",
   "execution_count": null,
   "metadata": {},
   "outputs": [],
   "source": [
    "# set system size, temperature\n",
    "...\n",
    "# run some Wolff sweeps, check if equilibrium\n",
    "...\n"
   ]
  },
  {
   "cell_type": "markdown",
   "metadata": {},
   "source": [
    "*Your answer here*"
   ]
  },
  {
   "cell_type": "markdown",
   "metadata": {},
   "source": [
    "### Exercise 4.9\n",
    "Write a function that computes the magnetization of a 2D Ising system after certain equilibration period."
   ]
  },
  {
   "cell_type": "code",
   "execution_count": null,
   "metadata": {},
   "outputs": [],
   "source": [
    "def calculate_magnetization(system_size=None, temperature=None, equilibration_time=None):\n",
    "    \"\"\"\n",
    "    Calculate the magnetization of a 2D Ising model.\n",
    "    \n",
    "    Parameters\n",
    "    ----------\n",
    "    system_size : int\n",
    "        The lattice size.\n",
    "    temperature : float\n",
    "        The simulation temperature.\n",
    "    equilibration_time : int\n",
    "        Number of Wolff sweeps before measuring M.\n",
    "        \n",
    "    \"\"\"\n",
    "    # instantiate model\n",
    "    ...\n",
    "    # equilibrate\n",
    "    ...\n",
    "    # compute magnetization\n",
    "    ...\n",
    "    return m\n"
   ]
  },
  {
   "cell_type": "markdown",
   "metadata": {},
   "source": [
    "### Exercise 4.10\n",
    "+ Compute the magnetization for a system of size $N=64$, for diverent values of $T\\in[1.5, 3.5]$.\n",
    "+ Remember to choose wisely the equilibration time!\n",
    "+ Plot $|M|$ as a function of $T$, and mark the critical temperature in your plot using the `plt.axvline()` function."
   ]
  },
  {
   "cell_type": "code",
   "execution_count": null,
   "metadata": {},
   "outputs": [],
   "source": [
    "# define range of temperatures\n",
    "temperatures = np.linspace(..., ..., num=...)\n",
    "# system size\n",
    "system_size = ...\n",
    "# equilibration time\n",
    "equilibration_time = ...\n",
    "\n",
    "# loop over temperatures, compute magnetizations\n",
    "magnetizations = []\n",
    "for temperature in temperatures:\n",
    "    magnetization = ...\n",
    "    magnetizations.append(magnetization)"
   ]
  },
  {
   "cell_type": "code",
   "execution_count": null,
   "metadata": {},
   "outputs": [],
   "source": [
    "# define critical temperature\n",
    "T_c = ...\n",
    "\n",
    "mpl.rcParams['axes.spines.right'] = False\n",
    "mpl.rcParams['axes.spines.top'] = False\n",
    "\n",
    "fig, ax = plt.subplots(1, 1, figsize=(5,4))\n",
    "ax.scatter(\n",
    "    ..., ...,\n",
    "    # style keywords\n",
    "    edgecolors=..., color=..., s=...\n",
    ")\n",
    "ax.axvline(\n",
    "    ...,\n",
    "    # style keywords\n",
    "    c=..., lw=..., ls=...\n",
    ")\n",
    "ax.set_title(...)\n",
    "ax.set_xlabel(...)\n",
    "ax.set_ylabel(...)"
   ]
  },
  {
   "cell_type": "markdown",
   "metadata": {},
   "source": [
    "## Susceptibility and Specific Heat\n"
   ]
  },
  {
   "cell_type": "markdown",
   "metadata": {},
   "source": [
    "In this exercice, we will compute the susceptibility $\\chi$ and the specific heat $C$. Using formula (6.13) in the book, we have that\n",
    "$$\n",
    "C = \\frac{1}{T^2} \\left\\langle (E - \\langle E \\rangle)^2 \\right\\rangle.\n",
    "$$\n",
    "Remember that this is only valid in **equilibrium**, which means that we can only measure energy fluctuations **after a transient** equilibration time."
   ]
  },
  {
   "cell_type": "markdown",
   "metadata": {},
   "source": [
    "### Exercise 4.11\n",
    "Find a convenient formula to measure the susceptibility $\\chi$ in a simulation."
   ]
  },
  {
   "cell_type": "markdown",
   "metadata": {},
   "source": [
    "*Your answer here*"
   ]
  },
  {
   "cell_type": "markdown",
   "metadata": {},
   "source": [
    "### Exercise 4.12\n",
    "Write a function that computes the energy of an Ising configuration.\n",
    "\n",
    "As usually, you can use the **template** below if it helps you, or if you prefer you can also write **your own function** from scratch."
   ]
  },
  {
   "cell_type": "code",
   "execution_count": null,
   "metadata": {},
   "outputs": [],
   "source": [
    "def compute_energy(ising):\n",
    "    \"\"\"Compute the energy of an ising object.\"\"\"\n",
    "    config = ising.lattice*2-1\n",
    "    N = len(config)\n",
    "    \n",
    "    edges = ...\n",
    "    E = 0\n",
    "    for i1, j1, i2, j2 in edges:\n",
    "        E -= ...\n",
    "    return E / N**2"
   ]
  },
  {
   "cell_type": "markdown",
   "metadata": {},
   "source": [
    "### Exercise 4.13\n",
    "Write a function that computes the susceptibility and the specific heat of a 2D Ising system. You might use the Wolff algorithm to speed up your simulations."
   ]
  },
  {
   "cell_type": "code",
   "execution_count": null,
   "metadata": {},
   "outputs": [],
   "source": [
    "def calculate_susceptibility_specific_heat(system_size=None, temperature=None, equilibration_time=None, n_samples=None):\n",
    "    \"\"\"\n",
    "    Simulate a 2D Ising model and measure its\n",
    "    specific heat and susceptibility at equilibrium.\n",
    "    \n",
    "    Parameters\n",
    "    ----------\n",
    "    system_size : int\n",
    "        The lattice side length.\n",
    "    temperature :  float.\n",
    "        The simulation temeperature.\n",
    "    equilibration_time : int\n",
    "        A transient period to allow for thermalization.\n",
    "    n_samples : int\n",
    "        The number of samples taken to compute fluctuations.\n",
    "\n",
    "    \"\"\"\n",
    "    # initiate model\n",
    "    ...\n",
    "    # thermalize\n",
    "    ...\n",
    "    \n",
    "    # create empty lists for magnetizations, energies, and their squares\n",
    "    ms = []\n",
    "    m2s = []\n",
    "    es = []\n",
    "    e2s = []\n",
    "    \n",
    "    # loop over n_samples \n",
    "    for _ in range(n_samples):\n",
    "        # change from 0,1 to -1,1 notation\n",
    "        ...\n",
    "        # get magnetization\n",
    "        ...\n",
    "        ms.append(m)\n",
    "        m2s.append(m**2)\n",
    "        # get energy\n",
    "        ...\n",
    "        es.append(e)\n",
    "        e2s.append(e**2)\n",
    "        # update system\n",
    "        ...\n",
    "    \n",
    "    # compute susceptibility and specific heat\n",
    "    susceptibility = ...\n",
    "    specific_heat = ...\n",
    "    \n",
    "    return susceptibility, specific_heat\n",
    "\n"
   ]
  },
  {
   "cell_type": "markdown",
   "metadata": {},
   "source": [
    "### Exercise 4.14\n",
    "+ Compute $C$ and $\\chi$ at different temperatures, for a small system of size $N<50$. You will need to find what are the right equilibration times. A good range of temperatures is $T \\in [1.5, 3.5]$.\n",
    "+ Make two plots, showing $\\chi$ and $C$ as a function of $T$. Mark the critical temperature $T_c$ with a vertical line using `ax.axvline(...)`."
   ]
  },
  {
   "cell_type": "code",
   "execution_count": null,
   "metadata": {},
   "outputs": [],
   "source": [
    "# define range of temperatures: 50 points from 1.5 to 4.\n",
    "temperatures = ...\n",
    "# system size\n",
    "system_size = ...\n",
    "# equilibration time\n",
    "equilibration_time = ...\n",
    "# n_samples\n",
    "n_samples = ...\n",
    "\n",
    "# loop over temperatures, compute susceptibility and specific_heat\n",
    "...\n",
    "...\n",
    "...\n"
   ]
  },
  {
   "cell_type": "code",
   "execution_count": null,
   "metadata": {},
   "outputs": [],
   "source": [
    "fig, (ax1, ax2) = plt.subplots(1, 2, figsize=(10,3))\n",
    "\n",
    "ax=ax1\n",
    "ax.plot(...)\n",
    "ax.axvline(...)\n",
    "ax.set_ylabel(...)\n",
    "ax.set_xlabel(...)\n",
    "ax.set_title(...)\n",
    "\n",
    "ax=ax2\n",
    "ax.plot(...)\n",
    "ax.axvline(...)\n",
    "ax.set_ylabel(...)\n",
    "ax.set_xlabel(...)\n",
    "ax.set_title(...)\n"
   ]
  },
  {
   "cell_type": "markdown",
   "metadata": {},
   "source": [
    "### Exercise 4.15\n",
    "Discuss whether or not your results proof the existence of a phase transition."
   ]
  },
  {
   "cell_type": "markdown",
   "metadata": {},
   "source": [
    "*Your answer here*"
   ]
  },
  {
   "attachments": {
    "image.png": {
     "image/png": "[encoded data removed]"
    }
   },
   "cell_type": "markdown",
   "metadata": {},
   "source": [
    "# Finding clusters\n",
    "Given an Ising configuration, we define a cluster of spins as a set of neighbouring spins of the same sign surrounded by spins of the opposite sign.\n",
    "\n",
    "<img src=\"attachment:image.png\" width=\"600\">"
   ]
  },
  {
   "cell_type": "markdown",
   "metadata": {},
   "source": [
    "### Exercise 4.16\n",
    "The formal definition of cluster is very clear, but in practice, how do you find (*efficiently* if possible) all clusters for a given configuration? We need to assign a **unique cluster label** to each spin. The cluster label could be anything (a color, a letter, a number...), it just needs to be the same for all spins that belong to the same cluster. For simplicity, we will use integers.\n",
    "\n",
    "Think about an algorithm that assigns unique cluster labels to spins. Explain your algorithm in simple words / steps / pseudocode.\n",
    "\n",
    "Remember:\n",
    "+ Clusters can trespass (periodic) boundary conditions\n",
    "+ Both `+1`'s and `-1`'s can form clusters!"
   ]
  },
  {
   "cell_type": "markdown",
   "metadata": {},
   "source": [
    "*Your answer here*"
   ]
  },
  {
   "attachments": {},
   "cell_type": "markdown",
   "metadata": {},
   "source": [
    "### Exercise 4.17\n",
    "Write a function that, given a configuration array `config`, returns another array `labels` where each cluster has a different label.\n",
    "\n",
    "<img src=\"attachment:image.png\" width=\"600\">\n",
    "\n",
    "Remember:\n",
    "+ Clusters can trespass (periodic) boundary conditions\n",
    "+ Both `+1`'s and `-1`'s can form clusters!\n"
   ]
  },
  {
   "cell_type": "code",
   "execution_count": null,
   "metadata": {},
   "outputs": [],
   "source": [
    "def get_labels(config):\n",
    "    \"\"\"\n",
    "    Get unique cluster labels.\n",
    "    \n",
    "    Parameters\n",
    "    ----------\n",
    "    config : np.array, (N, N)\n",
    "        Configuration of the system in {-1, 1} notation\n",
    "    Returns\n",
    "    -------\n",
    "    labels : np.array, (N, N)\n",
    "        Labels that identify the clusters\n",
    "    \"\"\"\n",
    "    ...\n",
    "            \n",
    "    return labels"
   ]
  },
  {
   "cell_type": "markdown",
   "metadata": {},
   "source": [
    "### Test your function\n",
    "To help you **test** your function, I have prepared some test data, so that we can all try our algorithms using the same input."
   ]
  },
  {
   "cell_type": "code",
   "execution_count": null,
   "metadata": {},
   "outputs": [],
   "source": [
    "config_test_0 = np.array([[ 1,  1,  1],\n",
    "                          [-1, -1,  1],\n",
    "                          [-1, -1,  1]])"
   ]
  },
  {
   "cell_type": "code",
   "execution_count": null,
   "metadata": {},
   "outputs": [],
   "source": [
    "config_test_1 = np.array([[ 1, -1, -1,  1, -1,  1],\n",
    "                          [-1, -1, -1,  1, -1,  1],\n",
    "                          [-1,  1, -1, -1, -1,  1],\n",
    "                          [-1,  1, -1,  1,  1,  1],\n",
    "                          [-1,  1, -1, -1,  1, -1],\n",
    "                          [-1, -1, -1,  1,  1,  1]])"
   ]
  },
  {
   "cell_type": "code",
   "execution_count": null,
   "metadata": {},
   "outputs": [],
   "source": [
    "config_test_2 = np.array([[ 1, -1,  1,  1, -1,  1, -1,  1,  1,  1],\n",
    "                          [-1, -1, -1,  1,  1, -1, -1, -1,  1, -1],\n",
    "                          [ 1, -1,  1, -1, -1, -1,  1,  1, -1,  1],\n",
    "                          [ 1, -1,  1,  1,  1, -1,  1, -1,  1, -1],\n",
    "                          [-1, -1,  1,  1, -1,  1, -1,  1,  1,  1],\n",
    "                          [ 1, -1, -1, -1,  1, -1,  1,  1, -1,  1],\n",
    "                          [-1,  1, -1,  1,  1, -1, -1, -1,  1,  1],\n",
    "                          [-1, -1, -1, -1,  1,  1, -1, -1, -1,  1],\n",
    "                          [ 1,  1, -1, -1,  1, -1,  1,  1,  1,  1],\n",
    "                          [ 1,  1, -1, -1, -1,  1,  1,  1,  1, -1]])\n"
   ]
  },
  {
   "cell_type": "markdown",
   "metadata": {},
   "source": [
    "Execute the following cell to make sure your function works correctly. The left column will show the test configurations, and the right column will show the clusters your function found, with different clusters colored in different colors"
   ]
  },
  {
   "cell_type": "code",
   "execution_count": null,
   "metadata": {},
   "outputs": [],
   "source": [
    "for i, config in enumerate([config_test_0, config_test_1, config_test_2]):\n",
    "    labels = get_labels(config)\n",
    "\n",
    "    fig, (ax1, ax2) = plt.subplots(1, 2, figsize=(10,4))\n",
    "    ax1.set_xticks(range(len(config)))\n",
    "    ax1.set_yticks(range(len(config)))\n",
    "    ax2.set_xticks(range(len(config)))\n",
    "    ax2.set_yticks(range(len(config)))\n",
    "    ax1.set_title(\"Configuration\")\n",
    "    ax2.set_title(\"Clusters\")\n",
    "    ax1.imshow(config, cmap=\"Greys\")\n",
    "    ax2.imshow(labels, cmap=\"rainbow\")\n",
    "    \n",
    "    fig.suptitle(f\"Test data {i}\", fontsize=22)"
   ]
  },
  {
   "cell_type": "markdown",
   "metadata": {},
   "source": [
    "If your function doesn't work, you might want to use this cell to inspect your results"
   ]
  },
  {
   "cell_type": "code",
   "execution_count": null,
   "metadata": {},
   "outputs": [],
   "source": [
    "fig, ax = plt.subplots(1, 1, figsize=(10, 9))\n",
    "ax.set_aspect(1)\n",
    "sns.heatmap(labels, annot=True, ax=ax, cmap=\"viridis\")"
   ]
  },
  {
   "cell_type": "markdown",
   "metadata": {},
   "source": [
    "### Measuring cluster sizes\n",
    "Use your `get_labels()` function to find clusters in a large Ising model, say $N=500$. You can use your own Ising implementation. If you use Sethna's code, remember that he uses $s \\in \\{0, 1\\}$ spins!"
   ]
  },
  {
   "cell_type": "code",
   "execution_count": null,
   "metadata": {},
   "outputs": [],
   "source": [
    "...\n",
    "...\n",
    "...\n",
    "labels = get_labels(config)"
   ]
  },
  {
   "cell_type": "code",
   "execution_count": null,
   "metadata": {},
   "outputs": [],
   "source": [
    "plt.figure(figsize=(10, 8))\n",
    "plt.imshow(labels)"
   ]
  },
  {
   "cell_type": "markdown",
   "metadata": {},
   "source": [
    "### Exercise 4.18\n",
    "Find an efficient way to measure cluster sizes. Remind that all you care about is the distribution of cluster sizes, their location does not matter. You might want to use the `.reshape()` method of a numpy array, and the `Counter` class from the `collections` package."
   ]
  },
  {
   "cell_type": "code",
   "execution_count": null,
   "metadata": {},
   "outputs": [],
   "source": [
    "def get_sizes(labels):\n",
    "    ...\n",
    "    ...\n",
    "    ...\n",
    "    return sizes"
   ]
  },
  {
   "cell_type": "markdown",
   "metadata": {},
   "source": [
    "### Exercise 4.19\n",
    "For $T >> T_c$, spins are essentially uncorrelated. What is the distribution of cluster sizes you expect to find in this case? **Hint** Think about the 1D case assuming totally uncorrelated spins."
   ]
  },
  {
   "cell_type": "markdown",
   "metadata": {},
   "source": [
    "*Your answer here*\n",
    "\n"
   ]
  },
  {
   "cell_type": "markdown",
   "metadata": {},
   "source": [
    "### Exercice 4.20\n",
    "Do a simulation at very high temperature and measure the cluster size distribution. Plot your results in log-log scale. Do your results agree with your previous answer?"
   ]
  },
  {
   "cell_type": "markdown",
   "metadata": {},
   "source": [
    "*Your answer here*"
   ]
  },
  {
   "cell_type": "code",
   "execution_count": null,
   "metadata": {},
   "outputs": [],
   "source": [
    "...\n",
    "...\n",
    "config = ...\n",
    "labels = get_labels(config)\n",
    "sizes = get_sizes(labels)"
   ]
  },
  {
   "cell_type": "code",
   "execution_count": null,
   "metadata": {},
   "outputs": [],
   "source": [
    "# use logarithmic bins and logarithmic axes!\n",
    "bins = np.geomspace(min(sizes), max(sizes), num=20)\n",
    "\n",
    "fig, ax = plt.subplots(1, 1, figsize=(5, 4))\n",
    "ax.hist(sizes, bins=bins, histtype=\"step\")\n",
    "ax.set_xscale(\"log\")\n",
    "ax.set_yscale(\"log\")\n",
    "ax.set_xlim(min(sizes), max(sizes))"
   ]
  },
  {
   "cell_type": "markdown",
   "metadata": {},
   "source": [
    "### Exercise 4.21\n",
    "\n",
    "At $T_c$, the distribution of cluster sizes is known to be a power law with exponent close to $\\alpha \\simeq 2$.\n",
    "\n",
    "$$\n",
    "P(s) \\propto s^{-\\alpha}\n",
    "$$\n",
    "\n",
    "Do a simulation at $T=T_c$ and compare the resulting cluster size distribution with that obtained at $T>>T_c$."
   ]
  },
  {
   "cell_type": "code",
   "execution_count": null,
   "metadata": {},
   "outputs": [],
   "source": [
    "# do simulation\n",
    "...\n",
    "...\n"
   ]
  },
  {
   "cell_type": "code",
   "execution_count": null,
   "metadata": {},
   "outputs": [],
   "source": [
    "# plot results\n",
    "...\n",
    "..."
   ]
  },
  {
   "cell_type": "code",
   "execution_count": null,
   "metadata": {},
   "outputs": [],
   "source": []
  },
  {
   "cell_type": "code",
   "execution_count": null,
   "metadata": {},
   "outputs": [],
   "source": []
  }
 ],
 "metadata": {
  "kernelspec": {
   "display_name": "Python 3",
   "language": "python",
   "name": "python3"
  },
  "language_info": {
   "codemirror_mode": {
    "name": "ipython",
    "version": 3
   },
   "file_extension": ".py",
   "mimetype": "text/x-python",
   "name": "python",
   "nbconvert_exporter": "python",
   "pygments_lexer": "ipython3",
   "version": "3.7.0"
  }
 },
 "nbformat": 4,
 "nbformat_minor": 4
}
